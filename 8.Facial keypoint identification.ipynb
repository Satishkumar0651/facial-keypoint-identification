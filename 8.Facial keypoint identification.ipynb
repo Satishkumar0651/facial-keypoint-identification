{
 "cells": [
  {
   "cell_type": "markdown",
   "metadata": {},
   "source": [
    "## 1. Data Exploration"
   ]
  },
  {
   "cell_type": "code",
   "execution_count": 1,
   "metadata": {
    "collapsed": true
   },
   "outputs": [],
   "source": [
    "%matplotlib inline\n",
    "\n",
    "import numpy as np\n",
    "import pandas as pd\n",
    "\n",
    "import matplotlib.pyplot as plt"
   ]
  },
  {
   "cell_type": "code",
   "execution_count": 2,
   "metadata": {
    "collapsed": true
   },
   "outputs": [],
   "source": [
    "seed = 42\n",
    "rng = np.random.RandomState(seed)"
   ]
  },
  {
   "cell_type": "code",
   "execution_count": 3,
   "metadata": {
    "collapsed": true
   },
   "outputs": [],
   "source": [
    "data = pd.read_csv('../datasets/facial_keypoint_identification/facial_keypoint_identification.csv')"
   ]
  },
  {
   "cell_type": "code",
   "execution_count": 4,
   "metadata": {
    "collapsed": false
   },
   "outputs": [
    {
     "data": {
      "text/html": [
       "<div>\n",
       "<style scoped>\n",
       "    .dataframe tbody tr th:only-of-type {\n",
       "        vertical-align: middle;\n",
       "    }\n",
       "\n",
       "    .dataframe tbody tr th {\n",
       "        vertical-align: top;\n",
       "    }\n",
       "\n",
       "    .dataframe thead th {\n",
       "        text-align: right;\n",
       "    }\n",
       "</style>\n",
       "<table border=\"1\" class=\"dataframe\">\n",
       "  <thead>\n",
       "    <tr style=\"text-align: right;\">\n",
       "      <th></th>\n",
       "      <th>image_name</th>\n",
       "      <th>left_eye_center_x</th>\n",
       "      <th>left_eye_center_y</th>\n",
       "      <th>right_eye_center_x</th>\n",
       "      <th>right_eye_center_y</th>\n",
       "    </tr>\n",
       "  </thead>\n",
       "  <tbody>\n",
       "    <tr>\n",
       "      <th>0</th>\n",
       "      <td>0.jpg</td>\n",
       "      <td>66</td>\n",
       "      <td>39</td>\n",
       "      <td>30</td>\n",
       "      <td>36</td>\n",
       "    </tr>\n",
       "    <tr>\n",
       "      <th>1</th>\n",
       "      <td>1.jpg</td>\n",
       "      <td>64</td>\n",
       "      <td>34</td>\n",
       "      <td>29</td>\n",
       "      <td>33</td>\n",
       "    </tr>\n",
       "    <tr>\n",
       "      <th>2</th>\n",
       "      <td>2.jpg</td>\n",
       "      <td>65</td>\n",
       "      <td>34</td>\n",
       "      <td>30</td>\n",
       "      <td>34</td>\n",
       "    </tr>\n",
       "    <tr>\n",
       "      <th>3</th>\n",
       "      <td>3.jpg</td>\n",
       "      <td>65</td>\n",
       "      <td>37</td>\n",
       "      <td>32</td>\n",
       "      <td>37</td>\n",
       "    </tr>\n",
       "    <tr>\n",
       "      <th>4</th>\n",
       "      <td>4.jpg</td>\n",
       "      <td>66</td>\n",
       "      <td>39</td>\n",
       "      <td>32</td>\n",
       "      <td>38</td>\n",
       "    </tr>\n",
       "  </tbody>\n",
       "</table>\n",
       "</div>"
      ],
      "text/plain": [
       "  image_name  left_eye_center_x  left_eye_center_y  right_eye_center_x  \\\n",
       "0      0.jpg                 66                 39                  30   \n",
       "1      1.jpg                 64                 34                  29   \n",
       "2      2.jpg                 65                 34                  30   \n",
       "3      3.jpg                 65                 37                  32   \n",
       "4      4.jpg                 66                 39                  32   \n",
       "\n",
       "   right_eye_center_y  \n",
       "0                  36  \n",
       "1                  33  \n",
       "2                  34  \n",
       "3                  37  \n",
       "4                  38  "
      ]
     },
     "execution_count": 4,
     "metadata": {},
     "output_type": "execute_result"
    }
   ],
   "source": [
    "data.head()"
   ]
  },
  {
   "cell_type": "code",
   "execution_count": 5,
   "metadata": {
    "collapsed": false
   },
   "outputs": [
    {
     "name": "stdout",
     "output_type": "stream",
     "text": [
      "Shape of original image is (96, 96, 3)\n"
     ]
    },
    {
     "data": {
      "image/png": "[encoded data removed]",
      "text/plain": [
       "<Figure size 432x288 with 1 Axes>"
      ]
     },
     "metadata": {},
     "output_type": "display_data"
    }
   ],
   "source": [
    "# get random index of data\n",
    "idx = rng.choice(data.index)\n",
    "\n",
    "# read image\n",
    "img = plt.imread('../datasets/facial_keypoint_identification/images/' + data.image_name.iloc[idx])\n",
    "\n",
    "# create an empty figure to plot the image and target\n",
    "fig = plt.figure()\n",
    "\n",
    "# plot image\n",
    "plt.imshow(img)\n",
    "\n",
    "# plot target\n",
    "plt.scatter(data.left_eye_center_x.iloc[idx], data.left_eye_center_y.iloc[idx], marker='x', c='r')\n",
    "plt.scatter(data.right_eye_center_x.iloc[idx], data.right_eye_center_y.iloc[idx], marker='x', c='r')\n",
    "\n",
    "# and print the shape of image\n",
    "print('Shape of original image is', img.shape)\n",
    "\n",
    "# finally show the figure\n",
    "plt.show()"
   ]
  },
  {
   "cell_type": "code",
   "execution_count": 6,
   "metadata": {
    "collapsed": true
   },
   "outputs": [],
   "source": [
    "from sklearn.metrics import mean_squared_error"
   ]
  },
  {
   "cell_type": "code",
   "execution_count": 7,
   "metadata": {
    "collapsed": false
   },
   "outputs": [
    {
     "data": {
      "text/plain": [
       "104.5789947402131"
      ]
     },
     "execution_count": 7,
     "metadata": {},
     "output_type": "execute_result"
    }
   ],
   "source": [
    "error_left_x = mean_squared_error(data.left_eye_center_x.values, np.full(data.left_eye_center_x.values.shape, data.left_eye_center_x.mean()))\n",
    "error_left_y = mean_squared_error(data.left_eye_center_y.values, np.full(data.left_eye_center_y.values.shape, data.left_eye_center_y.mean()))\n",
    "error_right_x = mean_squared_error(data.right_eye_center_x.values, np.full(data.right_eye_center_x.values.shape, data.right_eye_center_x.mean()))\n",
    "error_right_y = mean_squared_error(data.right_eye_center_y.values, np.full(data.right_eye_center_y.values.shape, data.right_eye_center_y.mean()))\n",
    "\n",
    "error = (error_left_x*error_left_x + error_left_y*error_left_y + error_right_x*error_right_x + error_right_y*error_right_y ) / 4\n",
    "error"
   ]
  },
  {
   "cell_type": "markdown",
   "metadata": {},
   "source": [
    "## 2. Data Loading and Preprocessing"
   ]
  },
  {
   "cell_type": "code",
   "execution_count": 8,
   "metadata": {
    "collapsed": false
   },
   "outputs": [
    {
     "name": "stderr",
     "output_type": "stream",
     "text": [
      "Using TensorFlow backend.\n"
     ]
    }
   ],
   "source": [
    "from keras.preprocessing import image\n",
    "from keras.applications.vgg16 import preprocess_input\n",
    "from sklearn.model_selection import train_test_split"
   ]
  },
  {
   "cell_type": "code",
   "execution_count": 9,
   "metadata": {
    "collapsed": true
   },
   "outputs": [],
   "source": [
    "images = []\n",
    "for img in data.image_name:\n",
    "    img = image.load_img('../datasets/facial_keypoint_identification/images/' + img, target_size=(224, 224, 3))\n",
    "    img = image.img_to_array(img)\n",
    "    images.append(img)\n",
    "    \n",
    "images=np.array(images)"
   ]
  },
  {
   "cell_type": "code",
   "execution_count": 10,
   "metadata": {
    "collapsed": false
   },
   "outputs": [
    {
     "data": {
      "text/plain": [
       "(7033, 224, 224, 3)"
      ]
     },
     "execution_count": 10,
     "metadata": {},
     "output_type": "execute_result"
    }
   ],
   "source": [
    "images.shape"
   ]
  },
  {
   "cell_type": "code",
   "execution_count": 11,
   "metadata": {
    "collapsed": true
   },
   "outputs": [],
   "source": [
    "X=preprocess_input(images, mode='tf')\n",
    "y = data.iloc[:, 1:].values"
   ]
  },
  {
   "cell_type": "code",
   "execution_count": 12,
   "metadata": {
    "collapsed": true
   },
   "outputs": [],
   "source": [
    "X_train, X_valid, Y_train, Y_valid=train_test_split(X,y,test_size=0.3, random_state=42)"
   ]
  },
  {
   "cell_type": "markdown",
   "metadata": {},
   "source": [
    "## 3. Model Building"
   ]
  },
  {
   "cell_type": "code",
   "execution_count": 13,
   "metadata": {
    "collapsed": true
   },
   "outputs": [],
   "source": [
    "from keras.applications.vgg16 import VGG16\n",
    "\n",
    "from keras.models import Sequential\n",
    "from keras.optimizers import Adam\n",
    "from keras.layers import Dense, Dropout, InputLayer\n",
    "from keras.callbacks import EarlyStopping"
   ]
  },
  {
   "cell_type": "code",
   "execution_count": 14,
   "metadata": {
    "collapsed": true
   },
   "outputs": [],
   "source": [
    "base_model = VGG16(include_top=False, weights='imagenet', input_shape=(224, 224, 3))"
   ]
  },
  {
   "cell_type": "code",
   "execution_count": 15,
   "metadata": {
    "collapsed": true
   },
   "outputs": [],
   "source": [
    "features_train = base_model.predict(X_train)\n",
    "features_valid = base_model.predict(X_valid)"
   ]
  },
  {
   "cell_type": "code",
   "execution_count": 16,
   "metadata": {
    "collapsed": false
   },
   "outputs": [
    {
     "data": {
      "text/plain": [
       "10.810992"
      ]
     },
     "execution_count": 16,
     "metadata": {},
     "output_type": "execute_result"
    }
   ],
   "source": [
    "features_train.max()"
   ]
  },
  {
   "cell_type": "code",
   "execution_count": 17,
   "metadata": {
    "collapsed": true
   },
   "outputs": [],
   "source": [
    "max_val = features_train.max()"
   ]
  },
  {
   "cell_type": "code",
   "execution_count": 18,
   "metadata": {
    "collapsed": true
   },
   "outputs": [],
   "source": [
    "features_train /= max_val\n",
    "features_valid /= max_val"
   ]
  },
  {
   "cell_type": "code",
   "execution_count": 19,
   "metadata": {
    "collapsed": true
   },
   "outputs": [],
   "source": [
    "features_train = features_train.reshape(features_train.shape[0], 7*7*512)\n",
    "features_valid = features_valid.reshape(features_valid.shape[0], 7*7*512)"
   ]
  },
  {
   "cell_type": "code",
   "execution_count": 20,
   "metadata": {
    "collapsed": true,
    "scrolled": true
   },
   "outputs": [],
   "source": [
    "model=Sequential()\n",
    "model.add(InputLayer((7*7*512, )))\n",
    "model.add(Dense(1024, activation='relu'))\n",
    "model.add(Dropout(0.3))\n",
    "model.add(Dense(units=4, activation='linear'))\n",
    "\n",
    "adam = Adam(lr=1e-3)\n",
    "model.compile(loss='mean_squared_error', optimizer=adam)"
   ]
  },
  {
   "cell_type": "code",
   "execution_count": 21,
   "metadata": {
    "collapsed": true
   },
   "outputs": [],
   "source": [
    "estop = EarlyStopping(patience=10, mode='min', min_delta=0.001, monitor='val_loss')"
   ]
  },
  {
   "cell_type": "code",
   "execution_count": 22,
   "metadata": {
    "collapsed": false,
    "scrolled": true
   },
   "outputs": [
    {
     "name": "stdout",
     "output_type": "stream",
     "text": [
      "Train on 4923 samples, validate on 2110 samples\n",
      "Epoch 1/200\n",
      "4923/4923 [==============================] - 1s 203us/step - loss: 1152.4785 - val_loss: 148.1156\n",
      "Epoch 2/200\n",
      "4923/4923 [==============================] - 1s 107us/step - loss: 152.5558 - val_loss: 178.0373\n",
      "Epoch 3/200\n",
      "4923/4923 [==============================] - 1s 103us/step - loss: 85.2673 - val_loss: 59.2243\n",
      "Epoch 4/200\n",
      "4923/4923 [==============================] - 1s 108us/step - loss: 59.6360 - val_loss: 31.3900\n",
      "Epoch 5/200\n",
      "4923/4923 [==============================] - 1s 108us/step - loss: 33.1686 - val_loss: 25.2031\n",
      "Epoch 6/200\n",
      "4923/4923 [==============================] - 1s 102us/step - loss: 27.2918 - val_loss: 19.3719\n",
      "Epoch 7/200\n",
      "4923/4923 [==============================] - 1s 106us/step - loss: 23.2887 - val_loss: 16.2653\n",
      "Epoch 8/200\n",
      "4923/4923 [==============================] - 1s 109us/step - loss: 20.8353 - val_loss: 14.7147\n",
      "Epoch 9/200\n",
      "4923/4923 [==============================] - 1s 102us/step - loss: 19.4617 - val_loss: 13.5489\n",
      "Epoch 10/200\n",
      "4923/4923 [==============================] - 1s 102us/step - loss: 18.1425 - val_loss: 12.6682\n",
      "Epoch 11/200\n",
      "4923/4923 [==============================] - 1s 107us/step - loss: 17.3616 - val_loss: 12.0478\n",
      "Epoch 12/200\n",
      "4923/4923 [==============================] - 1s 106us/step - loss: 16.7618 - val_loss: 11.4364\n",
      "Epoch 13/200\n",
      "4923/4923 [==============================] - 1s 110us/step - loss: 16.2189 - val_loss: 10.9730\n",
      "Epoch 14/200\n",
      "4923/4923 [==============================] - 1s 107us/step - loss: 15.6476 - val_loss: 10.4921\n",
      "Epoch 15/200\n",
      "4923/4923 [==============================] - 1s 106us/step - loss: 15.1390 - val_loss: 10.1484\n",
      "Epoch 16/200\n",
      "4923/4923 [==============================] - 1s 106us/step - loss: 14.5871 - val_loss: 9.7852\n",
      "Epoch 17/200\n",
      "4923/4923 [==============================] - 1s 108us/step - loss: 14.2088 - val_loss: 9.4903\n",
      "Epoch 18/200\n",
      "4923/4923 [==============================] - 1s 108us/step - loss: 13.6930 - val_loss: 9.2363\n",
      "Epoch 19/200\n",
      "4923/4923 [==============================] - 1s 108us/step - loss: 13.4199 - val_loss: 8.9609\n",
      "Epoch 20/200\n",
      "4923/4923 [==============================] - 1s 104us/step - loss: 12.9724 - val_loss: 8.7518\n",
      "Epoch 21/200\n",
      "4923/4923 [==============================] - 1s 104us/step - loss: 12.8311 - val_loss: 8.5420\n",
      "Epoch 22/200\n",
      "4923/4923 [==============================] - 1s 106us/step - loss: 12.2540 - val_loss: 8.3386\n",
      "Epoch 23/200\n",
      "4923/4923 [==============================] - 1s 108us/step - loss: 12.1796 - val_loss: 8.1881\n",
      "Epoch 24/200\n",
      "4923/4923 [==============================] - 1s 107us/step - loss: 11.7419 - val_loss: 7.9836\n",
      "Epoch 25/200\n",
      "4923/4923 [==============================] - 1s 107us/step - loss: 11.4109 - val_loss: 7.8603\n",
      "Epoch 26/200\n",
      "4923/4923 [==============================] - 1s 105us/step - loss: 11.3171 - val_loss: 7.6892\n",
      "Epoch 27/200\n",
      "4923/4923 [==============================] - 1s 108us/step - loss: 11.2573 - val_loss: 7.5807\n",
      "Epoch 28/200\n",
      "4923/4923 [==============================] - 1s 108us/step - loss: 10.6195 - val_loss: 7.4375\n",
      "Epoch 29/200\n",
      "4923/4923 [==============================] - 1s 109us/step - loss: 10.5794 - val_loss: 7.3446\n",
      "Epoch 30/200\n",
      "4923/4923 [==============================] - 1s 107us/step - loss: 10.4342 - val_loss: 7.2238\n",
      "Epoch 31/200\n",
      "4923/4923 [==============================] - 1s 107us/step - loss: 10.2318 - val_loss: 7.1408\n",
      "Epoch 32/200\n",
      "4923/4923 [==============================] - 1s 106us/step - loss: 10.0368 - val_loss: 7.0313\n",
      "Epoch 33/200\n",
      "4923/4923 [==============================] - 1s 107us/step - loss: 9.8040 - val_loss: 6.9531\n",
      "Epoch 34/200\n",
      "4923/4923 [==============================] - 1s 105us/step - loss: 9.7993 - val_loss: 6.8451\n",
      "Epoch 35/200\n",
      "4923/4923 [==============================] - 1s 108us/step - loss: 9.5657 - val_loss: 6.7457\n",
      "Epoch 36/200\n",
      "4923/4923 [==============================] - 1s 109us/step - loss: 9.4046 - val_loss: 6.6915\n",
      "Epoch 37/200\n",
      "4923/4923 [==============================] - 1s 110us/step - loss: 9.2165 - val_loss: 6.5952\n",
      "Epoch 38/200\n",
      "4923/4923 [==============================] - 1s 105us/step - loss: 8.9979 - val_loss: 6.5385\n",
      "Epoch 39/200\n",
      "4923/4923 [==============================] - 1s 104us/step - loss: 9.0511 - val_loss: 6.4749\n",
      "Epoch 40/200\n",
      "4923/4923 [==============================] - 1s 106us/step - loss: 8.7754 - val_loss: 6.3998\n",
      "Epoch 41/200\n",
      "4923/4923 [==============================] - 1s 108us/step - loss: 8.5899 - val_loss: 6.3455\n",
      "Epoch 42/200\n",
      "4923/4923 [==============================] - 1s 106us/step - loss: 8.5281 - val_loss: 6.2816\n",
      "Epoch 43/200\n",
      "4923/4923 [==============================] - 1s 108us/step - loss: 8.4588 - val_loss: 6.2315\n",
      "Epoch 44/200\n",
      "4923/4923 [==============================] - 1s 107us/step - loss: 8.3340 - val_loss: 6.1753\n",
      "Epoch 45/200\n",
      "4923/4923 [==============================] - 1s 109us/step - loss: 8.2332 - val_loss: 6.1374\n",
      "Epoch 46/200\n",
      "4923/4923 [==============================] - 1s 106us/step - loss: 8.0668 - val_loss: 6.0844\n",
      "Epoch 47/200\n",
      "4923/4923 [==============================] - 1s 105us/step - loss: 7.9891 - val_loss: 6.0138\n",
      "Epoch 48/200\n",
      "4923/4923 [==============================] - 1s 106us/step - loss: 8.0084 - val_loss: 6.0062\n",
      "Epoch 49/200\n",
      "4923/4923 [==============================] - 1s 106us/step - loss: 7.7583 - val_loss: 5.9606\n",
      "Epoch 50/200\n",
      "4923/4923 [==============================] - 1s 105us/step - loss: 7.7804 - val_loss: 5.8883\n",
      "Epoch 51/200\n",
      "4923/4923 [==============================] - 1s 106us/step - loss: 7.6669 - val_loss: 5.8630\n",
      "Epoch 52/200\n",
      "4923/4923 [==============================] - 1s 108us/step - loss: 7.5280 - val_loss: 5.8269\n",
      "Epoch 53/200\n",
      "4923/4923 [==============================] - 1s 107us/step - loss: 7.4028 - val_loss: 5.7947\n",
      "Epoch 54/200\n",
      "4923/4923 [==============================] - 1s 106us/step - loss: 7.4268 - val_loss: 5.7499\n",
      "Epoch 55/200\n",
      "4923/4923 [==============================] - 1s 105us/step - loss: 7.2271 - val_loss: 5.7267\n",
      "Epoch 56/200\n",
      "4923/4923 [==============================] - 1s 108us/step - loss: 7.1376 - val_loss: 5.6715\n",
      "Epoch 57/200\n",
      "4923/4923 [==============================] - 1s 107us/step - loss: 7.1292 - val_loss: 5.6946\n",
      "Epoch 58/200\n",
      "4923/4923 [==============================] - 1s 108us/step - loss: 7.1789 - val_loss: 5.5854\n",
      "Epoch 59/200\n",
      "4923/4923 [==============================] - 1s 109us/step - loss: 6.9327 - val_loss: 5.5797\n",
      "Epoch 60/200\n",
      "4923/4923 [==============================] - 1s 107us/step - loss: 6.9123 - val_loss: 5.5863\n",
      "Epoch 61/200\n",
      "4923/4923 [==============================] - 1s 107us/step - loss: 6.7955 - val_loss: 5.5316\n",
      "Epoch 62/200\n",
      "4923/4923 [==============================] - 1s 106us/step - loss: 6.6497 - val_loss: 5.5251\n",
      "Epoch 63/200\n",
      "4923/4923 [==============================] - 1s 105us/step - loss: 6.7310 - val_loss: 5.4829\n",
      "Epoch 64/200\n",
      "4923/4923 [==============================] - 1s 106us/step - loss: 6.4936 - val_loss: 5.4611\n",
      "Epoch 65/200\n",
      "4923/4923 [==============================] - 1s 109us/step - loss: 6.5938 - val_loss: 5.4225\n",
      "Epoch 66/200\n",
      "4923/4923 [==============================] - 1s 104us/step - loss: 6.4516 - val_loss: 5.4160\n",
      "Epoch 67/200\n",
      "4923/4923 [==============================] - 1s 108us/step - loss: 6.5252 - val_loss: 5.3865\n",
      "Epoch 68/200\n",
      "4923/4923 [==============================] - 1s 103us/step - loss: 6.4043 - val_loss: 5.3823\n",
      "Epoch 69/200\n",
      "4923/4923 [==============================] - 1s 106us/step - loss: 6.2785 - val_loss: 5.3167\n",
      "Epoch 70/200\n",
      "4923/4923 [==============================] - 1s 108us/step - loss: 6.2708 - val_loss: 5.3207\n",
      "Epoch 71/200\n",
      "4923/4923 [==============================] - 1s 106us/step - loss: 6.2166 - val_loss: 5.2823\n",
      "Epoch 72/200\n",
      "4923/4923 [==============================] - 1s 107us/step - loss: 6.0394 - val_loss: 5.2568\n",
      "Epoch 73/200\n",
      "4923/4923 [==============================] - 1s 108us/step - loss: 6.1810 - val_loss: 5.2434\n",
      "Epoch 74/200\n",
      "4923/4923 [==============================] - 1s 109us/step - loss: 6.0299 - val_loss: 5.2340\n",
      "Epoch 75/200\n",
      "4923/4923 [==============================] - 1s 108us/step - loss: 6.0488 - val_loss: 5.2672\n",
      "Epoch 76/200\n",
      "4923/4923 [==============================] - 1s 106us/step - loss: 5.8879 - val_loss: 5.2250\n",
      "Epoch 77/200\n",
      "4923/4923 [==============================] - 1s 107us/step - loss: 5.9123 - val_loss: 5.1791\n",
      "Epoch 78/200\n",
      "4923/4923 [==============================] - 1s 104us/step - loss: 5.7325 - val_loss: 5.1591\n",
      "Epoch 79/200\n",
      "4923/4923 [==============================] - 1s 107us/step - loss: 5.8038 - val_loss: 5.1744\n",
      "Epoch 80/200\n",
      "4923/4923 [==============================] - 1s 107us/step - loss: 5.8565 - val_loss: 5.1282\n",
      "Epoch 81/200\n",
      "4923/4923 [==============================] - 1s 104us/step - loss: 5.8821 - val_loss: 5.1358\n",
      "Epoch 82/200\n",
      "4923/4923 [==============================] - 1s 108us/step - loss: 5.6915 - val_loss: 5.1058\n",
      "Epoch 83/200\n",
      "4923/4923 [==============================] - 1s 107us/step - loss: 5.5645 - val_loss: 5.0874\n",
      "Epoch 84/200\n",
      "4923/4923 [==============================] - 0s 100us/step - loss: 5.6546 - val_loss: 5.0639\n",
      "Epoch 85/200\n",
      "4923/4923 [==============================] - 1s 102us/step - loss: 5.4680 - val_loss: 5.0875\n",
      "Epoch 86/200\n",
      "4923/4923 [==============================] - 1s 105us/step - loss: 5.6107 - val_loss: 5.0484\n",
      "Epoch 87/200\n",
      "4923/4923 [==============================] - 1s 103us/step - loss: 5.6070 - val_loss: 5.0573\n",
      "Epoch 88/200\n",
      "4923/4923 [==============================] - 1s 106us/step - loss: 5.4715 - val_loss: 5.0404\n",
      "Epoch 89/200\n",
      "4923/4923 [==============================] - 1s 110us/step - loss: 5.4457 - val_loss: 5.0356\n",
      "Epoch 90/200\n",
      "4923/4923 [==============================] - 1s 107us/step - loss: 5.3265 - val_loss: 5.0386\n",
      "Epoch 91/200\n",
      "4923/4923 [==============================] - 1s 108us/step - loss: 5.3476 - val_loss: 5.0341\n",
      "Epoch 92/200\n",
      "4923/4923 [==============================] - 1s 103us/step - loss: 5.3335 - val_loss: 4.9796\n",
      "Epoch 93/200\n",
      "4923/4923 [==============================] - 1s 107us/step - loss: 5.2939 - val_loss: 4.9866\n",
      "Epoch 94/200\n",
      "4923/4923 [==============================] - 1s 108us/step - loss: 5.2706 - val_loss: 4.9914\n",
      "Epoch 95/200\n",
      "4923/4923 [==============================] - 1s 107us/step - loss: 5.2646 - val_loss: 4.9613\n",
      "Epoch 96/200\n",
      "4923/4923 [==============================] - 1s 107us/step - loss: 5.1437 - val_loss: 4.9396\n",
      "Epoch 97/200\n",
      "4923/4923 [==============================] - 1s 107us/step - loss: 5.0065 - val_loss: 4.9663\n",
      "Epoch 98/200\n",
      "4923/4923 [==============================] - 1s 106us/step - loss: 4.9276 - val_loss: 4.9394\n",
      "Epoch 99/200\n",
      "4923/4923 [==============================] - 1s 108us/step - loss: 4.9629 - val_loss: 4.9320\n",
      "Epoch 100/200\n",
      "4923/4923 [==============================] - 1s 109us/step - loss: 5.0850 - val_loss: 4.9078\n",
      "Epoch 101/200\n",
      "4923/4923 [==============================] - 1s 107us/step - loss: 4.9467 - val_loss: 4.9143\n",
      "Epoch 102/200\n",
      "4923/4923 [==============================] - 1s 104us/step - loss: 4.8713 - val_loss: 4.9264\n",
      "Epoch 103/200\n",
      "4923/4923 [==============================] - 1s 105us/step - loss: 4.9256 - val_loss: 4.8961\n",
      "Epoch 104/200\n",
      "4923/4923 [==============================] - 1s 109us/step - loss: 4.9228 - val_loss: 4.9028\n",
      "Epoch 105/200\n",
      "4923/4923 [==============================] - 1s 107us/step - loss: 4.9245 - val_loss: 4.8984\n",
      "Epoch 106/200\n",
      "4923/4923 [==============================] - 1s 106us/step - loss: 4.8595 - val_loss: 4.8714\n",
      "Epoch 107/200\n",
      "4923/4923 [==============================] - 1s 105us/step - loss: 4.8070 - val_loss: 4.8808\n",
      "Epoch 108/200\n",
      "4923/4923 [==============================] - 1s 106us/step - loss: 4.8231 - val_loss: 4.8785\n",
      "Epoch 109/200\n",
      "4923/4923 [==============================] - 1s 108us/step - loss: 4.6638 - val_loss: 4.8582\n",
      "Epoch 110/200\n",
      "4923/4923 [==============================] - 1s 103us/step - loss: 4.8346 - val_loss: 4.8400\n",
      "Epoch 111/200\n",
      "4923/4923 [==============================] - 1s 106us/step - loss: 4.7881 - val_loss: 4.9396\n",
      "Epoch 112/200\n",
      "4923/4923 [==============================] - 1s 109us/step - loss: 4.7943 - val_loss: 5.1650\n",
      "Epoch 113/200\n",
      "4923/4923 [==============================] - 1s 107us/step - loss: 4.6727 - val_loss: 4.8190\n",
      "Epoch 114/200\n",
      "4923/4923 [==============================] - 1s 108us/step - loss: 4.5999 - val_loss: 4.8389\n",
      "Epoch 115/200\n",
      "4923/4923 [==============================] - 1s 105us/step - loss: 4.6164 - val_loss: 4.8415\n",
      "Epoch 116/200\n",
      "4923/4923 [==============================] - 1s 106us/step - loss: 4.6649 - val_loss: 4.8653\n",
      "Epoch 117/200\n",
      "4923/4923 [==============================] - 1s 104us/step - loss: 4.5753 - val_loss: 4.8220\n",
      "Epoch 118/200\n",
      "4923/4923 [==============================] - 1s 106us/step - loss: 4.4460 - val_loss: 4.8085\n",
      "Epoch 119/200\n",
      "4923/4923 [==============================] - 1s 108us/step - loss: 4.5451 - val_loss: 4.8081\n",
      "Epoch 120/200\n",
      "4923/4923 [==============================] - 1s 105us/step - loss: 4.5496 - val_loss: 4.8210\n",
      "Epoch 121/200\n",
      "4923/4923 [==============================] - 1s 105us/step - loss: 4.4912 - val_loss: 4.7857\n",
      "Epoch 122/200\n",
      "4923/4923 [==============================] - 1s 102us/step - loss: 4.3576 - val_loss: 4.7964\n",
      "Epoch 123/200\n",
      "4923/4923 [==============================] - 1s 105us/step - loss: 4.4189 - val_loss: 4.8192\n",
      "Epoch 124/200\n",
      "4923/4923 [==============================] - 1s 105us/step - loss: 4.4224 - val_loss: 4.7984\n",
      "Epoch 125/200\n",
      "4923/4923 [==============================] - 1s 105us/step - loss: 4.4181 - val_loss: 4.7795\n",
      "Epoch 126/200\n",
      "4923/4923 [==============================] - 1s 107us/step - loss: 4.4460 - val_loss: 4.7734\n",
      "Epoch 127/200\n",
      "4923/4923 [==============================] - 1s 107us/step - loss: 4.3168 - val_loss: 4.7870\n",
      "Epoch 128/200\n",
      "4923/4923 [==============================] - 1s 102us/step - loss: 4.3569 - val_loss: 4.8136\n",
      "Epoch 129/200\n",
      "4923/4923 [==============================] - 1s 106us/step - loss: 4.3880 - val_loss: 4.7934\n",
      "Epoch 130/200\n",
      "4923/4923 [==============================] - 1s 107us/step - loss: 4.3310 - val_loss: 4.7681\n",
      "Epoch 131/200\n",
      "4923/4923 [==============================] - 1s 106us/step - loss: 4.2093 - val_loss: 4.7790\n",
      "Epoch 132/200\n",
      "4923/4923 [==============================] - 1s 106us/step - loss: 4.1595 - val_loss: 4.7685\n",
      "Epoch 133/200\n",
      "4923/4923 [==============================] - 1s 108us/step - loss: 4.2460 - val_loss: 4.7884\n",
      "Epoch 134/200\n",
      "4923/4923 [==============================] - 1s 107us/step - loss: 4.1727 - val_loss: 4.7361\n",
      "Epoch 135/200\n",
      "4923/4923 [==============================] - 1s 106us/step - loss: 4.2188 - val_loss: 4.7539\n",
      "Epoch 136/200\n",
      "4923/4923 [==============================] - 1s 106us/step - loss: 4.1539 - val_loss: 4.7467\n",
      "Epoch 137/200\n",
      "4923/4923 [==============================] - 1s 102us/step - loss: 4.2563 - val_loss: 4.7490\n",
      "Epoch 138/200\n",
      "4923/4923 [==============================] - 1s 102us/step - loss: 4.0841 - val_loss: 4.7395\n",
      "Epoch 139/200\n",
      "4923/4923 [==============================] - 1s 107us/step - loss: 4.1370 - val_loss: 4.7399\n",
      "Epoch 140/200\n",
      "4923/4923 [==============================] - 1s 108us/step - loss: 4.1365 - val_loss: 4.7800\n",
      "Epoch 141/200\n",
      "4923/4923 [==============================] - 1s 107us/step - loss: 4.2007 - val_loss: 4.7548\n",
      "Epoch 142/200\n",
      "4923/4923 [==============================] - 1s 107us/step - loss: 4.1861 - val_loss: 4.7302\n",
      "Epoch 143/200\n",
      "4923/4923 [==============================] - 1s 106us/step - loss: 3.9730 - val_loss: 4.8332\n",
      "Epoch 144/200\n",
      "4923/4923 [==============================] - 1s 109us/step - loss: 4.0504 - val_loss: 4.7311\n",
      "Epoch 145/200\n",
      "4923/4923 [==============================] - 1s 106us/step - loss: 4.0536 - val_loss: 4.7157\n",
      "Epoch 146/200\n",
      "4923/4923 [==============================] - 1s 108us/step - loss: 3.9300 - val_loss: 4.7258\n",
      "Epoch 147/200\n",
      "4923/4923 [==============================] - 1s 108us/step - loss: 4.0590 - val_loss: 4.7307\n",
      "Epoch 148/200\n",
      "4923/4923 [==============================] - 1s 108us/step - loss: 3.8906 - val_loss: 4.7491\n",
      "Epoch 149/200\n",
      "4923/4923 [==============================] - 1s 105us/step - loss: 4.0330 - val_loss: 4.7693\n",
      "Epoch 150/200\n",
      "4923/4923 [==============================] - 1s 108us/step - loss: 3.8952 - val_loss: 4.6918\n",
      "Epoch 151/200\n",
      "4923/4923 [==============================] - 1s 105us/step - loss: 3.9127 - val_loss: 4.7356\n",
      "Epoch 152/200\n",
      "4923/4923 [==============================] - 1s 103us/step - loss: 4.0254 - val_loss: 4.6825\n",
      "Epoch 153/200\n",
      "4923/4923 [==============================] - 1s 107us/step - loss: 3.9499 - val_loss: 4.6923\n",
      "Epoch 154/200\n",
      "4923/4923 [==============================] - 1s 108us/step - loss: 3.9053 - val_loss: 4.8114\n",
      "Epoch 155/200\n",
      "4923/4923 [==============================] - 1s 103us/step - loss: 3.9482 - val_loss: 4.8243\n",
      "Epoch 156/200\n",
      "4923/4923 [==============================] - 0s 100us/step - loss: 3.9293 - val_loss: 4.8693\n",
      "Epoch 157/200\n",
      "4923/4923 [==============================] - 1s 108us/step - loss: 4.0189 - val_loss: 4.7993\n",
      "Epoch 158/200\n",
      "4923/4923 [==============================] - 1s 109us/step - loss: 3.8126 - val_loss: 4.7163\n",
      "Epoch 159/200\n",
      "4923/4923 [==============================] - 1s 108us/step - loss: 3.7819 - val_loss: 4.7418\n",
      "Epoch 160/200\n",
      "4923/4923 [==============================] - 1s 105us/step - loss: 3.8383 - val_loss: 4.7161\n",
      "Epoch 161/200\n",
      "4923/4923 [==============================] - 1s 106us/step - loss: 3.7457 - val_loss: 4.7277\n",
      "Epoch 162/200\n",
      "4923/4923 [==============================] - 1s 107us/step - loss: 3.7415 - val_loss: 4.7175\n"
     ]
    },
    {
     "data": {
      "text/plain": [
       "<keras.callbacks.History at 0x7f3ff8ad8860>"
      ]
     },
     "execution_count": 22,
     "metadata": {},
     "output_type": "execute_result"
    }
   ],
   "source": [
    "model.fit(features_train, Y_train, epochs=200, batch_size=512, callbacks=[estop] ,validation_data=(features_valid,Y_valid))"
   ]
  },
  {
   "cell_type": "code",
   "execution_count": 23,
   "metadata": {
    "collapsed": false
   },
   "outputs": [
    {
     "data": {
      "image/png": "[encoded data removed]",
      "text/plain": [
       "<Figure size 432x288 with 1 Axes>"
      ]
     },
     "metadata": {},
     "output_type": "display_data"
    }
   ],
   "source": [
    "# get predictions\n",
    "predictions = model.predict(features_valid)\n",
    "\n",
    "# extract validation images\n",
    "_, valid_images, _, _ = train_test_split(data.image_name,y,test_size=0.3, random_state=42)\n",
    "\n",
    "# get random validation image index\n",
    "idx = rng.choice(range(len(valid_images)))\n",
    "\n",
    "# get the corresponding image name\n",
    "image_name = valid_images.iloc[idx]\n",
    "\n",
    "# get the actual targets\n",
    "left_eye_center_x = data.loc[data.image_name == image_name, 'left_eye_center_x']\n",
    "left_eye_center_y = data.loc[data.image_name == image_name, 'left_eye_center_y']\n",
    "right_eye_center_x = data.loc[data.image_name == image_name, 'right_eye_center_x']\n",
    "right_eye_center_y = data.loc[data.image_name == image_name, 'right_eye_center_y']\n",
    "\n",
    "# get the corresponding predictions\n",
    "predicted_left_eye_center_x, predicted_left_eye_center_y, predicted_right_eye_center_x, predicted_right_eye_center_y = predictions[idx]\n",
    "\n",
    "# read the image\n",
    "img = plt.imread('../datasets/facial_keypoint_identification/images/' + image_name)\n",
    "\n",
    "# plot empty figure\n",
    "fig = plt.figure()\n",
    "\n",
    "# plot image\n",
    "plt.imshow(img,cmap='gray')\n",
    "\n",
    "# plot actual targets\n",
    "plt.scatter(left_eye_center_x, left_eye_center_y, marker='x', s=50, c='r')\n",
    "plt.scatter(right_eye_center_x, right_eye_center_y, marker='x', s=50, c='r')\n",
    "\n",
    "# plot predictions\n",
    "plt.scatter(predicted_left_eye_center_x, predicted_left_eye_center_y, marker='o', s=50, c='w')\n",
    "plt.scatter(predicted_right_eye_center_x, predicted_right_eye_center_y, marker='o', s=50, c='w')\n",
    "\n",
    "# show the figure\n",
    "plt.show()"
   ]
  },
  {
   "cell_type": "code",
   "execution_count": null,
   "metadata": {
    "collapsed": true
   },
   "outputs": [],
   "source": []
  }
 ],
 "metadata": {
  "anaconda-cloud": {},
  "kernelspec": {
   "display_name": "Python [conda env:anaconda]",
   "language": "python",
   "name": "conda-env-anaconda-py"
  },
  "language_info": {
   "codemirror_mode": {
    "name": "ipython",
    "version": 2
   },
   "file_extension": ".py",
   "mimetype": "text/x-python",
   "name": "python",
   "nbconvert_exporter": "python",
   "pygments_lexer": "ipython2",
   "version": "2.7.15"
  }
 },
 "nbformat": 4,
 "nbformat_minor": 2
}
